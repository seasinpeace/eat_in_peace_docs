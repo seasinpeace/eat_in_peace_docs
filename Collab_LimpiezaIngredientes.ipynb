{
  "nbformat": 4,
  "nbformat_minor": 0,
  "metadata": {
    "colab": {
      "provenance": []
    },
    "kernelspec": {
      "name": "python3",
      "display_name": "Python 3"
    },
    "language_info": {
      "name": "python"
    }
  },
  "cells": [
    {
      "cell_type": "code",
      "source": [
        "!pip install odfpy"
      ],
      "metadata": {
        "colab": {
          "base_uri": "https://localhost:8080/"
        },
        "id": "UEUkMXX74fFh",
        "outputId": "cb28e9b3-0de8-4bfd-9c8e-5da1de589291"
      },
      "execution_count": null,
      "outputs": [
        {
          "output_type": "stream",
          "name": "stdout",
          "text": [
            "Collecting odfpy\n",
            "  Downloading odfpy-1.4.1.tar.gz (717 kB)\n",
            "\u001b[2K     \u001b[90m━━━━━━━━━━━━━━━━━━━━━━━━━━━━━━━━━━━━━━━━\u001b[0m \u001b[32m717.0/717.0 kB\u001b[0m \u001b[31m9.8 MB/s\u001b[0m eta \u001b[36m0:00:00\u001b[0m\n",
            "\u001b[?25h  Preparing metadata (setup.py) ... \u001b[?25l\u001b[?25hdone\n",
            "Requirement already satisfied: defusedxml in /usr/local/lib/python3.10/dist-packages (from odfpy) (0.7.1)\n",
            "Building wheels for collected packages: odfpy\n",
            "  Building wheel for odfpy (setup.py) ... \u001b[?25l\u001b[?25hdone\n",
            "  Created wheel for odfpy: filename=odfpy-1.4.1-py2.py3-none-any.whl size=160671 sha256=f8be510e3a137ef13bd16e53a327a7232e7337253c7d0e5a15a6294bdb14eb22\n",
            "  Stored in directory: /root/.cache/pip/wheels/c8/2e/95/90d94fe33903786937f3b8c33dd88807f792359c6424b40469\n",
            "Successfully built odfpy\n",
            "Installing collected packages: odfpy\n",
            "Successfully installed odfpy-1.4.1\n"
          ]
        }
      ]
    },
    {
      "cell_type": "code",
      "source": [
        "!pip install --upgrade gspread gspread-dataframe\n"
      ],
      "metadata": {
        "colab": {
          "base_uri": "https://localhost:8080/"
        },
        "id": "haqHpwPV8CAa",
        "outputId": "c6c357e3-f1dc-444e-c441-4e70f8b8e2d9"
      },
      "execution_count": null,
      "outputs": [
        {
          "output_type": "stream",
          "name": "stdout",
          "text": [
            "Requirement already satisfied: gspread in /usr/local/lib/python3.10/dist-packages (6.0.2)\n",
            "Collecting gspread\n",
            "  Downloading gspread-6.1.3-py3-none-any.whl.metadata (11 kB)\n",
            "Requirement already satisfied: gspread-dataframe in /usr/local/lib/python3.10/dist-packages (3.3.1)\n",
            "Collecting gspread-dataframe\n",
            "  Downloading gspread_dataframe-4.0.0-py2.py3-none-any.whl.metadata (4.5 kB)\n",
            "Requirement already satisfied: google-auth>=1.12.0 in /usr/local/lib/python3.10/dist-packages (from gspread) (2.27.0)\n",
            "Requirement already satisfied: google-auth-oauthlib>=0.4.1 in /usr/local/lib/python3.10/dist-packages (from gspread) (1.2.1)\n",
            "Requirement already satisfied: pandas>=0.24.0 in /usr/local/lib/python3.10/dist-packages (from gspread-dataframe) (2.2.2)\n",
            "Requirement already satisfied: six>=1.12.0 in /usr/local/lib/python3.10/dist-packages (from gspread-dataframe) (1.16.0)\n",
            "Requirement already satisfied: cachetools<6.0,>=2.0.0 in /usr/local/lib/python3.10/dist-packages (from google-auth>=1.12.0->gspread) (5.5.0)\n",
            "Requirement already satisfied: pyasn1-modules>=0.2.1 in /usr/local/lib/python3.10/dist-packages (from google-auth>=1.12.0->gspread) (0.4.1)\n",
            "Requirement already satisfied: rsa<5,>=3.1.4 in /usr/local/lib/python3.10/dist-packages (from google-auth>=1.12.0->gspread) (4.9)\n",
            "Requirement already satisfied: requests-oauthlib>=0.7.0 in /usr/local/lib/python3.10/dist-packages (from google-auth-oauthlib>=0.4.1->gspread) (1.3.1)\n",
            "Requirement already satisfied: numpy>=1.22.4 in /usr/local/lib/python3.10/dist-packages (from pandas>=0.24.0->gspread-dataframe) (1.26.4)\n",
            "Requirement already satisfied: python-dateutil>=2.8.2 in /usr/local/lib/python3.10/dist-packages (from pandas>=0.24.0->gspread-dataframe) (2.8.2)\n",
            "Requirement already satisfied: pytz>=2020.1 in /usr/local/lib/python3.10/dist-packages (from pandas>=0.24.0->gspread-dataframe) (2024.2)\n",
            "Requirement already satisfied: tzdata>=2022.7 in /usr/local/lib/python3.10/dist-packages (from pandas>=0.24.0->gspread-dataframe) (2024.2)\n",
            "Requirement already satisfied: pyasn1<0.7.0,>=0.4.6 in /usr/local/lib/python3.10/dist-packages (from pyasn1-modules>=0.2.1->google-auth>=1.12.0->gspread) (0.6.1)\n",
            "Requirement already satisfied: oauthlib>=3.0.0 in /usr/local/lib/python3.10/dist-packages (from requests-oauthlib>=0.7.0->google-auth-oauthlib>=0.4.1->gspread) (3.2.2)\n",
            "Requirement already satisfied: requests>=2.0.0 in /usr/local/lib/python3.10/dist-packages (from requests-oauthlib>=0.7.0->google-auth-oauthlib>=0.4.1->gspread) (2.32.3)\n",
            "Requirement already satisfied: charset-normalizer<4,>=2 in /usr/local/lib/python3.10/dist-packages (from requests>=2.0.0->requests-oauthlib>=0.7.0->google-auth-oauthlib>=0.4.1->gspread) (3.3.2)\n",
            "Requirement already satisfied: idna<4,>=2.5 in /usr/local/lib/python3.10/dist-packages (from requests>=2.0.0->requests-oauthlib>=0.7.0->google-auth-oauthlib>=0.4.1->gspread) (3.10)\n",
            "Requirement already satisfied: urllib3<3,>=1.21.1 in /usr/local/lib/python3.10/dist-packages (from requests>=2.0.0->requests-oauthlib>=0.7.0->google-auth-oauthlib>=0.4.1->gspread) (2.2.3)\n",
            "Requirement already satisfied: certifi>=2017.4.17 in /usr/local/lib/python3.10/dist-packages (from requests>=2.0.0->requests-oauthlib>=0.7.0->google-auth-oauthlib>=0.4.1->gspread) (2024.8.30)\n",
            "Downloading gspread-6.1.3-py3-none-any.whl (57 kB)\n",
            "\u001b[2K   \u001b[90m━━━━━━━━━━━━━━━━━━━━━━━━━━━━━━━━━━━━━━━━\u001b[0m \u001b[32m57.6/57.6 kB\u001b[0m \u001b[31m2.4 MB/s\u001b[0m eta \u001b[36m0:00:00\u001b[0m\n",
            "\u001b[?25hDownloading gspread_dataframe-4.0.0-py2.py3-none-any.whl (9.0 kB)\n",
            "Installing collected packages: gspread, gspread-dataframe\n",
            "  Attempting uninstall: gspread\n",
            "    Found existing installation: gspread 6.0.2\n",
            "    Uninstalling gspread-6.0.2:\n",
            "      Successfully uninstalled gspread-6.0.2\n",
            "  Attempting uninstall: gspread-dataframe\n",
            "    Found existing installation: gspread-dataframe 3.3.1\n",
            "    Uninstalling gspread-dataframe-3.3.1:\n",
            "      Successfully uninstalled gspread-dataframe-3.3.1\n",
            "Successfully installed gspread-6.1.3 gspread-dataframe-4.0.0\n"
          ]
        }
      ]
    },
    {
      "cell_type": "code",
      "execution_count": null,
      "metadata": {
        "colab": {
          "base_uri": "https://localhost:8080/"
        },
        "id": "85Ha2KZI3-ky",
        "outputId": "d4238cab-5e45-4f76-857b-213e3af671eb"
      },
      "outputs": [
        {
          "output_type": "stream",
          "name": "stdout",
          "text": [
            "Mounted at /content/drive\n"
          ]
        }
      ],
      "source": [
        "from google.colab import drive\n",
        "drive.mount('/content/drive')"
      ]
    },
    {
      "cell_type": "code",
      "source": [
        "import pandas as pd\n",
        "\n",
        "# Ruta al archivo en Google Drive\n",
        "file_path = '/content/drive/My Drive/TFM/Databases/DB_food.xlsx'\n",
        "\n",
        "# Leer el archivo .xlsx utilizando el motor 'openpyxl'\n",
        "df = pd.read_excel(file_path, engine='openpyxl')\n",
        "\n",
        "# Ver las primeras filas del DataFrame\n",
        "df.head()\n"
      ],
      "metadata": {
        "colab": {
          "base_uri": "https://localhost:8080/",
          "height": 330
        },
        "id": "S-NPMOvy4bjN",
        "outputId": "85c2b636-5d9a-4abc-8b95-1464cf903669"
      },
      "execution_count": null,
      "outputs": [
        {
          "output_type": "execute_result",
          "data": {
            "text/plain": [
              "   _id  Food Group  Subgroup  Type Food name in English  Kcal (100g)  \\\n",
              "0    1         1.0       1.0   1.0                 Rice        130.0   \n",
              "1    2         1.0       1.0   1.0        Rice, Basmati        121.0   \n",
              "2    3         1.0       1.0   1.0          Rice, brown        111.0   \n",
              "3    4         1.0       1.0   2.0          Flour, Rice        364.0   \n",
              "4    5         1.0       1.0   3.0          Bread, rice        235.0   \n",
              "\n",
              "   WATER(g)  FE(mg) ZN(mg)  CA(mg)                         FoodEx2 CODE  \\\n",
              "0     10.70    0.36   1.52    4.55                      A001D#F28.A07HS   \n",
              "1     10.00    0.23   1.03     NaN            A001F#F26.A07XE$F28.A07LK   \n",
              "2     11.50    3.72   2.30   25.31                      A001E#F28.A07HS   \n",
              "3     12.80    0.52   1.55    4.42                                A003F   \n",
              "4     49.77     NaN    NaN     NaN  A04KZ#F04.A001E$F26.A07XE$F28.A0CQZ   \n",
              "\n",
              "   derivates  fructose  fructanes  sacarose  animal  carbohydrates region  \n",
              "0        1.0       NaN        NaN       NaN     NaN            1.0    All  \n",
              "1        1.0       NaN        NaN       NaN     NaN            1.0    All  \n",
              "2        1.0       NaN        NaN       NaN     NaN            1.0    All  \n",
              "3        1.0       NaN        NaN       NaN     NaN            1.0    All  \n",
              "4        1.0       NaN        1.0       NaN     NaN            1.0    All  "
            ],
            "text/html": [
              "\n",
              "  <div id=\"df-d5378954-3a59-40cc-af4a-aae0a85c50f7\" class=\"colab-df-container\">\n",
              "    <div>\n",
              "<style scoped>\n",
              "    .dataframe tbody tr th:only-of-type {\n",
              "        vertical-align: middle;\n",
              "    }\n",
              "\n",
              "    .dataframe tbody tr th {\n",
              "        vertical-align: top;\n",
              "    }\n",
              "\n",
              "    .dataframe thead th {\n",
              "        text-align: right;\n",
              "    }\n",
              "</style>\n",
              "<table border=\"1\" class=\"dataframe\">\n",
              "  <thead>\n",
              "    <tr style=\"text-align: right;\">\n",
              "      <th></th>\n",
              "      <th>_id</th>\n",
              "      <th>Food Group</th>\n",
              "      <th>Subgroup</th>\n",
              "      <th>Type</th>\n",
              "      <th>Food name in English</th>\n",
              "      <th>Kcal (100g)</th>\n",
              "      <th>WATER(g)</th>\n",
              "      <th>FE(mg)</th>\n",
              "      <th>ZN(mg)</th>\n",
              "      <th>CA(mg)</th>\n",
              "      <th>FoodEx2 CODE</th>\n",
              "      <th>derivates</th>\n",
              "      <th>fructose</th>\n",
              "      <th>fructanes</th>\n",
              "      <th>sacarose</th>\n",
              "      <th>animal</th>\n",
              "      <th>carbohydrates</th>\n",
              "      <th>region</th>\n",
              "    </tr>\n",
              "  </thead>\n",
              "  <tbody>\n",
              "    <tr>\n",
              "      <th>0</th>\n",
              "      <td>1</td>\n",
              "      <td>1.0</td>\n",
              "      <td>1.0</td>\n",
              "      <td>1.0</td>\n",
              "      <td>Rice</td>\n",
              "      <td>130.0</td>\n",
              "      <td>10.70</td>\n",
              "      <td>0.36</td>\n",
              "      <td>1.52</td>\n",
              "      <td>4.55</td>\n",
              "      <td>A001D#F28.A07HS</td>\n",
              "      <td>1.0</td>\n",
              "      <td>NaN</td>\n",
              "      <td>NaN</td>\n",
              "      <td>NaN</td>\n",
              "      <td>NaN</td>\n",
              "      <td>1.0</td>\n",
              "      <td>All</td>\n",
              "    </tr>\n",
              "    <tr>\n",
              "      <th>1</th>\n",
              "      <td>2</td>\n",
              "      <td>1.0</td>\n",
              "      <td>1.0</td>\n",
              "      <td>1.0</td>\n",
              "      <td>Rice, Basmati</td>\n",
              "      <td>121.0</td>\n",
              "      <td>10.00</td>\n",
              "      <td>0.23</td>\n",
              "      <td>1.03</td>\n",
              "      <td>NaN</td>\n",
              "      <td>A001F#F26.A07XE$F28.A07LK</td>\n",
              "      <td>1.0</td>\n",
              "      <td>NaN</td>\n",
              "      <td>NaN</td>\n",
              "      <td>NaN</td>\n",
              "      <td>NaN</td>\n",
              "      <td>1.0</td>\n",
              "      <td>All</td>\n",
              "    </tr>\n",
              "    <tr>\n",
              "      <th>2</th>\n",
              "      <td>3</td>\n",
              "      <td>1.0</td>\n",
              "      <td>1.0</td>\n",
              "      <td>1.0</td>\n",
              "      <td>Rice, brown</td>\n",
              "      <td>111.0</td>\n",
              "      <td>11.50</td>\n",
              "      <td>3.72</td>\n",
              "      <td>2.30</td>\n",
              "      <td>25.31</td>\n",
              "      <td>A001E#F28.A07HS</td>\n",
              "      <td>1.0</td>\n",
              "      <td>NaN</td>\n",
              "      <td>NaN</td>\n",
              "      <td>NaN</td>\n",
              "      <td>NaN</td>\n",
              "      <td>1.0</td>\n",
              "      <td>All</td>\n",
              "    </tr>\n",
              "    <tr>\n",
              "      <th>3</th>\n",
              "      <td>4</td>\n",
              "      <td>1.0</td>\n",
              "      <td>1.0</td>\n",
              "      <td>2.0</td>\n",
              "      <td>Flour, Rice</td>\n",
              "      <td>364.0</td>\n",
              "      <td>12.80</td>\n",
              "      <td>0.52</td>\n",
              "      <td>1.55</td>\n",
              "      <td>4.42</td>\n",
              "      <td>A003F</td>\n",
              "      <td>1.0</td>\n",
              "      <td>NaN</td>\n",
              "      <td>NaN</td>\n",
              "      <td>NaN</td>\n",
              "      <td>NaN</td>\n",
              "      <td>1.0</td>\n",
              "      <td>All</td>\n",
              "    </tr>\n",
              "    <tr>\n",
              "      <th>4</th>\n",
              "      <td>5</td>\n",
              "      <td>1.0</td>\n",
              "      <td>1.0</td>\n",
              "      <td>3.0</td>\n",
              "      <td>Bread, rice</td>\n",
              "      <td>235.0</td>\n",
              "      <td>49.77</td>\n",
              "      <td>NaN</td>\n",
              "      <td>NaN</td>\n",
              "      <td>NaN</td>\n",
              "      <td>A04KZ#F04.A001E$F26.A07XE$F28.A0CQZ</td>\n",
              "      <td>1.0</td>\n",
              "      <td>NaN</td>\n",
              "      <td>1.0</td>\n",
              "      <td>NaN</td>\n",
              "      <td>NaN</td>\n",
              "      <td>1.0</td>\n",
              "      <td>All</td>\n",
              "    </tr>\n",
              "  </tbody>\n",
              "</table>\n",
              "</div>\n",
              "    <div class=\"colab-df-buttons\">\n",
              "\n",
              "  <div class=\"colab-df-container\">\n",
              "    <button class=\"colab-df-convert\" onclick=\"convertToInteractive('df-d5378954-3a59-40cc-af4a-aae0a85c50f7')\"\n",
              "            title=\"Convert this dataframe to an interactive table.\"\n",
              "            style=\"display:none;\">\n",
              "\n",
              "  <svg xmlns=\"http://www.w3.org/2000/svg\" height=\"24px\" viewBox=\"0 -960 960 960\">\n",
              "    <path d=\"M120-120v-720h720v720H120Zm60-500h600v-160H180v160Zm220 220h160v-160H400v160Zm0 220h160v-160H400v160ZM180-400h160v-160H180v160Zm440 0h160v-160H620v160ZM180-180h160v-160H180v160Zm440 0h160v-160H620v160Z\"/>\n",
              "  </svg>\n",
              "    </button>\n",
              "\n",
              "  <style>\n",
              "    .colab-df-container {\n",
              "      display:flex;\n",
              "      gap: 12px;\n",
              "    }\n",
              "\n",
              "    .colab-df-convert {\n",
              "      background-color: #E8F0FE;\n",
              "      border: none;\n",
              "      border-radius: 50%;\n",
              "      cursor: pointer;\n",
              "      display: none;\n",
              "      fill: #1967D2;\n",
              "      height: 32px;\n",
              "      padding: 0 0 0 0;\n",
              "      width: 32px;\n",
              "    }\n",
              "\n",
              "    .colab-df-convert:hover {\n",
              "      background-color: #E2EBFA;\n",
              "      box-shadow: 0px 1px 2px rgba(60, 64, 67, 0.3), 0px 1px 3px 1px rgba(60, 64, 67, 0.15);\n",
              "      fill: #174EA6;\n",
              "    }\n",
              "\n",
              "    .colab-df-buttons div {\n",
              "      margin-bottom: 4px;\n",
              "    }\n",
              "\n",
              "    [theme=dark] .colab-df-convert {\n",
              "      background-color: #3B4455;\n",
              "      fill: #D2E3FC;\n",
              "    }\n",
              "\n",
              "    [theme=dark] .colab-df-convert:hover {\n",
              "      background-color: #434B5C;\n",
              "      box-shadow: 0px 1px 3px 1px rgba(0, 0, 0, 0.15);\n",
              "      filter: drop-shadow(0px 1px 2px rgba(0, 0, 0, 0.3));\n",
              "      fill: #FFFFFF;\n",
              "    }\n",
              "  </style>\n",
              "\n",
              "    <script>\n",
              "      const buttonEl =\n",
              "        document.querySelector('#df-d5378954-3a59-40cc-af4a-aae0a85c50f7 button.colab-df-convert');\n",
              "      buttonEl.style.display =\n",
              "        google.colab.kernel.accessAllowed ? 'block' : 'none';\n",
              "\n",
              "      async function convertToInteractive(key) {\n",
              "        const element = document.querySelector('#df-d5378954-3a59-40cc-af4a-aae0a85c50f7');\n",
              "        const dataTable =\n",
              "          await google.colab.kernel.invokeFunction('convertToInteractive',\n",
              "                                                    [key], {});\n",
              "        if (!dataTable) return;\n",
              "\n",
              "        const docLinkHtml = 'Like what you see? Visit the ' +\n",
              "          '<a target=\"_blank\" href=https://colab.research.google.com/notebooks/data_table.ipynb>data table notebook</a>'\n",
              "          + ' to learn more about interactive tables.';\n",
              "        element.innerHTML = '';\n",
              "        dataTable['output_type'] = 'display_data';\n",
              "        await google.colab.output.renderOutput(dataTable, element);\n",
              "        const docLink = document.createElement('div');\n",
              "        docLink.innerHTML = docLinkHtml;\n",
              "        element.appendChild(docLink);\n",
              "      }\n",
              "    </script>\n",
              "  </div>\n",
              "\n",
              "\n",
              "<div id=\"df-cd9d703f-3279-4c52-bfed-c9c33b04e9bc\">\n",
              "  <button class=\"colab-df-quickchart\" onclick=\"quickchart('df-cd9d703f-3279-4c52-bfed-c9c33b04e9bc')\"\n",
              "            title=\"Suggest charts\"\n",
              "            style=\"display:none;\">\n",
              "\n",
              "<svg xmlns=\"http://www.w3.org/2000/svg\" height=\"24px\"viewBox=\"0 0 24 24\"\n",
              "     width=\"24px\">\n",
              "    <g>\n",
              "        <path d=\"M19 3H5c-1.1 0-2 .9-2 2v14c0 1.1.9 2 2 2h14c1.1 0 2-.9 2-2V5c0-1.1-.9-2-2-2zM9 17H7v-7h2v7zm4 0h-2V7h2v10zm4 0h-2v-4h2v4z\"/>\n",
              "    </g>\n",
              "</svg>\n",
              "  </button>\n",
              "\n",
              "<style>\n",
              "  .colab-df-quickchart {\n",
              "      --bg-color: #E8F0FE;\n",
              "      --fill-color: #1967D2;\n",
              "      --hover-bg-color: #E2EBFA;\n",
              "      --hover-fill-color: #174EA6;\n",
              "      --disabled-fill-color: #AAA;\n",
              "      --disabled-bg-color: #DDD;\n",
              "  }\n",
              "\n",
              "  [theme=dark] .colab-df-quickchart {\n",
              "      --bg-color: #3B4455;\n",
              "      --fill-color: #D2E3FC;\n",
              "      --hover-bg-color: #434B5C;\n",
              "      --hover-fill-color: #FFFFFF;\n",
              "      --disabled-bg-color: #3B4455;\n",
              "      --disabled-fill-color: #666;\n",
              "  }\n",
              "\n",
              "  .colab-df-quickchart {\n",
              "    background-color: var(--bg-color);\n",
              "    border: none;\n",
              "    border-radius: 50%;\n",
              "    cursor: pointer;\n",
              "    display: none;\n",
              "    fill: var(--fill-color);\n",
              "    height: 32px;\n",
              "    padding: 0;\n",
              "    width: 32px;\n",
              "  }\n",
              "\n",
              "  .colab-df-quickchart:hover {\n",
              "    background-color: var(--hover-bg-color);\n",
              "    box-shadow: 0 1px 2px rgba(60, 64, 67, 0.3), 0 1px 3px 1px rgba(60, 64, 67, 0.15);\n",
              "    fill: var(--button-hover-fill-color);\n",
              "  }\n",
              "\n",
              "  .colab-df-quickchart-complete:disabled,\n",
              "  .colab-df-quickchart-complete:disabled:hover {\n",
              "    background-color: var(--disabled-bg-color);\n",
              "    fill: var(--disabled-fill-color);\n",
              "    box-shadow: none;\n",
              "  }\n",
              "\n",
              "  .colab-df-spinner {\n",
              "    border: 2px solid var(--fill-color);\n",
              "    border-color: transparent;\n",
              "    border-bottom-color: var(--fill-color);\n",
              "    animation:\n",
              "      spin 1s steps(1) infinite;\n",
              "  }\n",
              "\n",
              "  @keyframes spin {\n",
              "    0% {\n",
              "      border-color: transparent;\n",
              "      border-bottom-color: var(--fill-color);\n",
              "      border-left-color: var(--fill-color);\n",
              "    }\n",
              "    20% {\n",
              "      border-color: transparent;\n",
              "      border-left-color: var(--fill-color);\n",
              "      border-top-color: var(--fill-color);\n",
              "    }\n",
              "    30% {\n",
              "      border-color: transparent;\n",
              "      border-left-color: var(--fill-color);\n",
              "      border-top-color: var(--fill-color);\n",
              "      border-right-color: var(--fill-color);\n",
              "    }\n",
              "    40% {\n",
              "      border-color: transparent;\n",
              "      border-right-color: var(--fill-color);\n",
              "      border-top-color: var(--fill-color);\n",
              "    }\n",
              "    60% {\n",
              "      border-color: transparent;\n",
              "      border-right-color: var(--fill-color);\n",
              "    }\n",
              "    80% {\n",
              "      border-color: transparent;\n",
              "      border-right-color: var(--fill-color);\n",
              "      border-bottom-color: var(--fill-color);\n",
              "    }\n",
              "    90% {\n",
              "      border-color: transparent;\n",
              "      border-bottom-color: var(--fill-color);\n",
              "    }\n",
              "  }\n",
              "</style>\n",
              "\n",
              "  <script>\n",
              "    async function quickchart(key) {\n",
              "      const quickchartButtonEl =\n",
              "        document.querySelector('#' + key + ' button');\n",
              "      quickchartButtonEl.disabled = true;  // To prevent multiple clicks.\n",
              "      quickchartButtonEl.classList.add('colab-df-spinner');\n",
              "      try {\n",
              "        const charts = await google.colab.kernel.invokeFunction(\n",
              "            'suggestCharts', [key], {});\n",
              "      } catch (error) {\n",
              "        console.error('Error during call to suggestCharts:', error);\n",
              "      }\n",
              "      quickchartButtonEl.classList.remove('colab-df-spinner');\n",
              "      quickchartButtonEl.classList.add('colab-df-quickchart-complete');\n",
              "    }\n",
              "    (() => {\n",
              "      let quickchartButtonEl =\n",
              "        document.querySelector('#df-cd9d703f-3279-4c52-bfed-c9c33b04e9bc button');\n",
              "      quickchartButtonEl.style.display =\n",
              "        google.colab.kernel.accessAllowed ? 'block' : 'none';\n",
              "    })();\n",
              "  </script>\n",
              "</div>\n",
              "\n",
              "    </div>\n",
              "  </div>\n"
            ],
            "application/vnd.google.colaboratory.intrinsic+json": {
              "type": "dataframe",
              "variable_name": "df",
              "summary": "{\n  \"name\": \"df\",\n  \"rows\": 391,\n  \"fields\": [\n    {\n      \"column\": \"_id\",\n      \"properties\": {\n        \"dtype\": \"number\",\n        \"std\": 113,\n        \"min\": 1,\n        \"max\": 390,\n        \"num_unique_values\": 390,\n        \"samples\": [\n          10,\n          43,\n          34\n        ],\n        \"semantic_type\": \"\",\n        \"description\": \"\"\n      }\n    },\n    {\n      \"column\": \"Food Group\",\n      \"properties\": {\n        \"dtype\": \"number\",\n        \"std\": 3.8589958079548174,\n        \"min\": 1.0,\n        \"max\": 14.0,\n        \"num_unique_values\": 14,\n        \"samples\": [\n          10.0,\n          12.0,\n          1.0\n        ],\n        \"semantic_type\": \"\",\n        \"description\": \"\"\n      }\n    },\n    {\n      \"column\": \"Subgroup\",\n      \"properties\": {\n        \"dtype\": \"number\",\n        \"std\": 1.8480314118319163,\n        \"min\": 1.0,\n        \"max\": 9.0,\n        \"num_unique_values\": 8,\n        \"samples\": [\n          2.0,\n          6.0,\n          1.0\n        ],\n        \"semantic_type\": \"\",\n        \"description\": \"\"\n      }\n    },\n    {\n      \"column\": \"Type\",\n      \"properties\": {\n        \"dtype\": \"number\",\n        \"std\": 2.290242240885427,\n        \"min\": 1.0,\n        \"max\": 9.0,\n        \"num_unique_values\": 8,\n        \"samples\": [\n          2.0,\n          9.0,\n          1.0\n        ],\n        \"semantic_type\": \"\",\n        \"description\": \"\"\n      }\n    },\n    {\n      \"column\": \"Food name in English\",\n      \"properties\": {\n        \"dtype\": \"string\",\n        \"num_unique_values\": 387,\n        \"samples\": [\n          \"Rosemary\",\n          \"Thyme\",\n          \"Bean, pinto\"\n        ],\n        \"semantic_type\": \"\",\n        \"description\": \"\"\n      }\n    },\n    {\n      \"column\": \"Kcal (100g)\",\n      \"properties\": {\n        \"dtype\": \"number\",\n        \"std\": 182.40282980567196,\n        \"min\": 0.0,\n        \"max\": 884.0,\n        \"num_unique_values\": 219,\n        \"samples\": [\n          279.0,\n          251.0,\n          435.0\n        ],\n        \"semantic_type\": \"\",\n        \"description\": \"\"\n      }\n    },\n    {\n      \"column\": \"WATER(g)\",\n      \"properties\": {\n        \"dtype\": \"number\",\n        \"std\": 35.10687091487905,\n        \"min\": 0.0,\n        \"max\": 100.0,\n        \"num_unique_values\": 232,\n        \"samples\": [\n          93.22,\n          2.0,\n          12.03\n        ],\n        \"semantic_type\": \"\",\n        \"description\": \"\"\n      }\n    },\n    {\n      \"column\": \"FE(mg)\",\n      \"properties\": {\n        \"dtype\": \"number\",\n        \"std\": 8.759117404162572,\n        \"min\": 0.0,\n        \"max\": 82.7,\n        \"num_unique_values\": 169,\n        \"samples\": [\n          1.9,\n          1.19,\n          0.87\n        ],\n        \"semantic_type\": \"\",\n        \"description\": \"\"\n      }\n    },\n    {\n      \"column\": \"ZN(mg)\",\n      \"properties\": {\n        \"dtype\": \"category\",\n        \"num_unique_values\": 173,\n        \"samples\": [\n          0.41,\n          \"0.17\",\n          \"4.3\"\n        ],\n        \"semantic_type\": \"\",\n        \"description\": \"\"\n      }\n    },\n    {\n      \"column\": \"CA(mg)\",\n      \"properties\": {\n        \"dtype\": \"number\",\n        \"std\": 259.09258936837,\n        \"min\": 0.0,\n        \"max\": 2132.0,\n        \"num_unique_values\": 221,\n        \"samples\": [\n          23.81,\n          7.61,\n          67.0\n        ],\n        \"semantic_type\": \"\",\n        \"description\": \"\"\n      }\n    },\n    {\n      \"column\": \"FoodEx2 CODE\",\n      \"properties\": {\n        \"dtype\": \"string\",\n        \"num_unique_values\": 343,\n        \"samples\": [\n          \"Z0009.0001.0007\",\n          \"A12C3\",\n          \"A00FR#F28.A07HS\"\n        ],\n        \"semantic_type\": \"\",\n        \"description\": \"\"\n      }\n    },\n    {\n      \"column\": \"derivates\",\n      \"properties\": {\n        \"dtype\": \"number\",\n        \"std\": 43.6012798543606,\n        \"min\": 1.0,\n        \"max\": 187.0,\n        \"num_unique_values\": 15,\n        \"samples\": [\n          73.0,\n          99.0,\n          1.0\n        ],\n        \"semantic_type\": \"\",\n        \"description\": \"\"\n      }\n    },\n    {\n      \"column\": \"fructose\",\n      \"properties\": {\n        \"dtype\": \"number\",\n        \"std\": 1.2337363021156076,\n        \"min\": 1.0,\n        \"max\": 4.0,\n        \"num_unique_values\": 4,\n        \"samples\": [\n          2.0,\n          3.0,\n          1.0\n        ],\n        \"semantic_type\": \"\",\n        \"description\": \"\"\n      }\n    },\n    {\n      \"column\": \"fructanes\",\n      \"properties\": {\n        \"dtype\": \"number\",\n        \"std\": 0.0,\n        \"min\": 1.0,\n        \"max\": 1.0,\n        \"num_unique_values\": 1,\n        \"samples\": [\n          1.0\n        ],\n        \"semantic_type\": \"\",\n        \"description\": \"\"\n      }\n    },\n    {\n      \"column\": \"sacarose\",\n      \"properties\": {\n        \"dtype\": \"number\",\n        \"std\": null,\n        \"min\": null,\n        \"max\": null,\n        \"num_unique_values\": 0,\n        \"samples\": [],\n        \"semantic_type\": \"\",\n        \"description\": \"\"\n      }\n    },\n    {\n      \"column\": \"animal\",\n      \"properties\": {\n        \"dtype\": \"number\",\n        \"std\": null,\n        \"min\": null,\n        \"max\": null,\n        \"num_unique_values\": 0,\n        \"samples\": [],\n        \"semantic_type\": \"\",\n        \"description\": \"\"\n      }\n    },\n    {\n      \"column\": \"carbohydrates\",\n      \"properties\": {\n        \"dtype\": \"number\",\n        \"std\": 0.0,\n        \"min\": 1.0,\n        \"max\": 1.0,\n        \"num_unique_values\": 1,\n        \"samples\": [],\n        \"semantic_type\": \"\",\n        \"description\": \"\"\n      }\n    },\n    {\n      \"column\": \"region\",\n      \"properties\": {\n        \"dtype\": \"category\",\n        \"num_unique_values\": 4,\n        \"samples\": [],\n        \"semantic_type\": \"\",\n        \"description\": \"\"\n      }\n    }\n  ]\n}"
            }
          },
          "metadata": {},
          "execution_count": 5
        }
      ]
    },
    {
      "cell_type": "code",
      "source": [
        "# Filtrar los _id donde el Food Group es 8 y convertir a enteros\n",
        "ids_food_group_8 = df.loc[df['Food Group'] == 8, '_id'].astype(int)\n",
        "\n",
        "# Convertir a lista para mostrar\n",
        "ids_food_group_8_list = ids_food_group_8.tolist()\n",
        "\n",
        "# Mostrar los resultados\n",
        "print(ids_food_group_8_list)\n"
      ],
      "metadata": {
        "colab": {
          "base_uri": "https://localhost:8080/"
        },
        "id": "WLANUsCMLola",
        "outputId": "f0a504ca-6529-44db-a366-5969fb26ff23"
      },
      "execution_count": null,
      "outputs": [
        {
          "output_type": "stream",
          "name": "stdout",
          "text": [
            "[242, 251, 252, 253, 254, 255, 256, 257, 258, 259, 260, 373, 374, 375, 376]\n"
          ]
        }
      ]
    },
    {
      "cell_type": "code",
      "source": [
        "# Filtrar los _id donde la columna \"Food name in English\" contiene la palabra \"chocolate\"\n",
        "ids_chocolate = df.loc[df['Food name in English'].str.contains('chocolate', case=False, na=False), '_id'].astype(int)\n",
        "\n",
        "# Convertir a lista para mostrar\n",
        "ids_chocolate_list = ids_chocolate.tolist()\n",
        "\n",
        "# Mostrar los resultados\n",
        "print(ids_chocolate_list)\n"
      ],
      "metadata": {
        "colab": {
          "base_uri": "https://localhost:8080/"
        },
        "id": "ztQKVupFMFTc",
        "outputId": "82301c92-e209-4034-e925-3b6ee302de04"
      },
      "execution_count": null,
      "outputs": [
        {
          "output_type": "stream",
          "name": "stdout",
          "text": [
            "[352, 353, 354]\n"
          ]
        }
      ]
    },
    {
      "cell_type": "code",
      "source": [
        "# Filtrar los _id donde el Food Group es 7 y el Subgroup es 2\n",
        "ids_group_7_subgroup_2 = df.loc[(df['Food Group'] == 7) & (df['Subgroup'] == 2), '_id'].astype(int)\n",
        "\n",
        "# Convertir a lista para mostrar\n",
        "ids_group_7_subgroup_2_list = ids_group_7_subgroup_2.tolist()\n",
        "\n",
        "# Mostrar los resultados\n",
        "print(ids_group_7_subgroup_2_list)\n"
      ],
      "metadata": {
        "colab": {
          "base_uri": "https://localhost:8080/"
        },
        "id": "bLcK9VKPOAX7",
        "outputId": "7d2a35d0-1174-4662-924e-7413a6adea3c"
      },
      "execution_count": null,
      "outputs": [
        {
          "output_type": "stream",
          "name": "stdout",
          "text": [
            "[230, 231, 232, 233, 234, 235, 236, 237, 238, 239, 240]\n"
          ]
        }
      ]
    },
    {
      "cell_type": "code",
      "source": [
        "# Filtrar las filas donde la columna 'Food name in English' contiene 'pea' y obtener los _id\n",
        "ids_pea = df[df['Food name in English'].str.contains('pea', case=False, na=False)]['_id']\n",
        "\n",
        "# Convertir los _id a una lista\n",
        "ids_pea_list = ids_pea.tolist()\n",
        "\n",
        "# Mostrar el resultado\n",
        "print(ids_pea_list)\n"
      ],
      "metadata": {
        "colab": {
          "base_uri": "https://localhost:8080/"
        },
        "id": "G4sU5o3GAInN",
        "outputId": "66eb6d48-4715-4aad-e16f-07a91416ab27"
      },
      "execution_count": null,
      "outputs": [
        {
          "output_type": "stream",
          "name": "stdout",
          "text": [
            "[95, 97, 99, 101, 103, 169, 181, 207, 211, 225, 262]\n"
          ]
        }
      ]
    },
    {
      "cell_type": "code",
      "source": [
        "# Filtrar los _id donde el Food Group es 7 o 8\n",
        "ids_group_7_or_8 = df.loc[(df['Food Group'] == 7) | (df['Food Group'] == 8), '_id'].astype(int)\n",
        "\n",
        "# Convertir a lista para mostrar\n",
        "ids_group_7_or_8_list = ids_group_7_or_8.tolist()\n",
        "\n",
        "# Mostrar los resultados\n",
        "print(ids_group_7_or_8_list)\n"
      ],
      "metadata": {
        "colab": {
          "base_uri": "https://localhost:8080/"
        },
        "id": "1Y1cvUJ5OLVB",
        "outputId": "d62bff9c-5e3d-4f32-825b-8e5df853f3d4"
      },
      "execution_count": null,
      "outputs": [
        {
          "output_type": "stream",
          "name": "stdout",
          "text": [
            "[226, 227, 228, 229, 230, 231, 232, 233, 234, 235, 236, 237, 238, 239, 240, 241, 242, 243, 244, 245, 246, 247, 248, 249, 250, 251, 252, 253, 254, 255, 256, 257, 258, 259, 260, 369, 373, 374, 375, 376]\n"
          ]
        }
      ]
    },
    {
      "cell_type": "code",
      "source": [
        "# Filtrar las filas que contienen \"rice\" en la columna \"Food name in English\", ignorando NaN\n",
        "filtered_ids = df[df['Food name in English'].notna() & df['Food name in English'].str.contains('rice', case=False)]['_id']\n",
        "\n",
        "# Convertir los _id a una cadena\n",
        "ids_string = ', '.join(filtered_ids.astype(str))\n",
        "\n",
        "# Mostrar el resultado\n",
        "print(ids_string)\n"
      ],
      "metadata": {
        "colab": {
          "base_uri": "https://localhost:8080/"
        },
        "id": "8vd1CSoj43vE",
        "outputId": "d9789288-47cf-445e-e131-0ba8586005a8"
      },
      "execution_count": null,
      "outputs": [
        {
          "output_type": "stream",
          "name": "stdout",
          "text": [
            "1, 2, 3, 4, 5, 6, 7, 8\n"
          ]
        }
      ]
    },
    {
      "cell_type": "code",
      "source": [
        "# Obtener el _id de la fila donde \"Food name in English\" es exactamente \"rice\"\n",
        "rice_id = df.loc[df['Food name in English'].str.lower() == 'rice', '_id']\n",
        "\n",
        "# Comprobar que existe al menos un _id para \"rice\"\n",
        "if not rice_id.empty:\n",
        "    # Asumimos que queremos usar el primer _id encontrado\n",
        "    rice_id_value = rice_id.iloc[0]\n",
        "\n",
        "    # Actualizar la columna \"derivates\" para las filas que contienen \"rice\"\n",
        "    df.loc[df['Food name in English'].str.contains('rice', case=False), 'derivates'] = rice_id_value\n",
        "\n",
        "# Mostrar el DataFrame actualizado\n",
        "print(df)\n"
      ],
      "metadata": {
        "colab": {
          "base_uri": "https://localhost:8080/",
          "height": 211
        },
        "id": "WjLXHDBw5eIg",
        "outputId": "79b5f3a5-ed12-45eb-add0-7fc88cad199a"
      },
      "execution_count": null,
      "outputs": [
        {
          "output_type": "error",
          "ename": "NameError",
          "evalue": "name 'df' is not defined",
          "traceback": [
            "\u001b[0;31m---------------------------------------------------------------------------\u001b[0m",
            "\u001b[0;31mNameError\u001b[0m                                 Traceback (most recent call last)",
            "\u001b[0;32m<ipython-input-6-3f8e0e6d2e69>\u001b[0m in \u001b[0;36m<cell line: 2>\u001b[0;34m()\u001b[0m\n\u001b[1;32m      1\u001b[0m \u001b[0;31m# Obtener el _id de la fila donde \"Food name in English\" es exactamente \"rice\"\u001b[0m\u001b[0;34m\u001b[0m\u001b[0;34m\u001b[0m\u001b[0m\n\u001b[0;32m----> 2\u001b[0;31m \u001b[0mrice_id\u001b[0m \u001b[0;34m=\u001b[0m \u001b[0mdf\u001b[0m\u001b[0;34m.\u001b[0m\u001b[0mloc\u001b[0m\u001b[0;34m[\u001b[0m\u001b[0mdf\u001b[0m\u001b[0;34m[\u001b[0m\u001b[0;34m'Food name in English'\u001b[0m\u001b[0;34m]\u001b[0m\u001b[0;34m.\u001b[0m\u001b[0mstr\u001b[0m\u001b[0;34m.\u001b[0m\u001b[0mlower\u001b[0m\u001b[0;34m(\u001b[0m\u001b[0;34m)\u001b[0m \u001b[0;34m==\u001b[0m \u001b[0;34m'rice'\u001b[0m\u001b[0;34m,\u001b[0m \u001b[0;34m'_id'\u001b[0m\u001b[0;34m]\u001b[0m\u001b[0;34m\u001b[0m\u001b[0;34m\u001b[0m\u001b[0m\n\u001b[0m\u001b[1;32m      3\u001b[0m \u001b[0;34m\u001b[0m\u001b[0m\n\u001b[1;32m      4\u001b[0m \u001b[0;31m# Comprobar que existe al menos un _id para \"rice\"\u001b[0m\u001b[0;34m\u001b[0m\u001b[0;34m\u001b[0m\u001b[0m\n\u001b[1;32m      5\u001b[0m \u001b[0;32mif\u001b[0m \u001b[0;32mnot\u001b[0m \u001b[0mrice_id\u001b[0m\u001b[0;34m.\u001b[0m\u001b[0mempty\u001b[0m\u001b[0;34m:\u001b[0m\u001b[0;34m\u001b[0m\u001b[0;34m\u001b[0m\u001b[0m\n",
            "\u001b[0;31mNameError\u001b[0m: name 'df' is not defined"
          ]
        }
      ]
    },
    {
      "cell_type": "code",
      "source": [
        "# Lista de alimentos a buscar\n",
        "food_names = ['wheat', 'corn', 'millet', 'oat', 'soybean', 'quinoa', 'barley', 'rye', 'cassava', 'bean', 'pea', 'lentil','potato','banana','bran','Amaranth']\n",
        "\n",
        "for food_name in food_names:\n",
        "    # Obtener el _id de la fila donde \"Food name in English\" es exactamente el nombre del alimento\n",
        "    food_id = df.loc[df['Food name in English'].str.lower() == food_name, '_id']\n",
        "\n",
        "    # Comprobar que existe al menos un _id para el alimento\n",
        "    if not food_id.empty:\n",
        "        # Usar el primer _id encontrado\n",
        "        food_id_value = food_id.iloc[0]\n",
        "\n",
        "        # Actualizar la columna \"derivates\" para las filas que contienen el nombre del alimento\n",
        "        df.loc[df['Food name in English'].str.contains(food_name, case=False), 'derivates'] = food_id_value\n",
        "\n",
        "\n"
      ],
      "metadata": {
        "id": "3eDxE-sz6EkA"
      },
      "execution_count": null,
      "outputs": []
    },
    {
      "cell_type": "code",
      "source": [
        "# Lista de valores de _id que quieres modificar\n",
        "ids_to_update = [19, 20, 21, 22, 23, 24, 25, 36, 40, 42, 47, 55, 61]\n",
        "\n",
        "# Asignar el valor 1 en la columna \"gluten\" para las filas que tienen el _id en la lista\n",
        "df.loc[df['_id'].isin(ids_to_update), 'gluten'] = 1\n",
        "\n",
        "# Mostrar las filas actualizadas para verificar el cambio\n",
        "print(df[df['_id'].isin(ids_to_update)])\n"
      ],
      "metadata": {
        "colab": {
          "base_uri": "https://localhost:8080/"
        },
        "id": "VP9IlkXSNyk8",
        "outputId": "855e38de-3982-493e-a943-81f1f091478d"
      },
      "execution_count": null,
      "outputs": [
        {
          "output_type": "stream",
          "name": "stdout",
          "text": [
            "    _id  Food Group  Subgroup  Type Food name in English  \\\n",
            "18   19         1.0       3.0   1.0                Wheat   \n",
            "19   20         1.0       3.0   2.0         Flour, Wheat   \n",
            "20   21         1.0       3.0   3.0   Bread, wheat-based   \n",
            "21   22         1.0       3.0   4.0  Porridge, wheatmeal   \n",
            "22   23         1.0       3.0   5.0  Noodle, wheat-based   \n",
            "23   24         1.0       3.0   5.0         Pasta, wheat   \n",
            "24   25         1.0       3.0   9.0       Cracker, wheat   \n",
            "35   36         1.0       6.0   1.0               Barley   \n",
            "39   40         1.0       6.0   1.0                  Rye   \n",
            "41   42         1.0       6.0   2.0        Flour, barley   \n",
            "46   47         1.0       6.0   2.0           Flour, Rye   \n",
            "54   55         1.0       6.0   4.0         Bran, barley   \n",
            "60   61         1.0       6.0   4.0     Porridge, barley   \n",
            "\n",
            "                           FoodEx2 CODE  derivates  WATER(g)  FE(mg) ZN(mg)  \\\n",
            "18            A001M#F26.A07XE$F28.A07HS       19.0     11.96    3.89   3.81   \n",
            "19                                A003X       19.0     14.50    1.10   1.38   \n",
            "20                                A004X       19.0     31.85    1.01   0.82   \n",
            "21                                A00EV       19.0      9.50     NaN    NaN   \n",
            "22            A007R#F04.A003X$F28.A07KG       19.0     11.70    1.87   0.79   \n",
            "23                                A007M       19.0      7.60     NaN    NaN   \n",
            "24                      A005Y#F04.A003Y       19.0       NaN     NaN    NaN   \n",
            "35  A000P#F26.A07XE$F28.A07HS$F10.A06HR       36.0      9.80     NaN   2.62   \n",
            "39                      A001K#F28.A07HS       40.0     11.49     NaN    NaN   \n",
            "41            A002L#F28.A07GY$F10.A06HR       36.0     11.10    2.49    NaN   \n",
            "46                                A003J       40.0       NaN     NaN    NaN   \n",
            "54                      A0BBJ#F28.A07HS       36.0     14.00     NaN    NaN   \n",
            "60                                A00EX       36.0      9.58     NaN    NaN   \n",
            "\n",
            "    CA(mg)  Kcal (100g)  gluten  lactose  fructose  fructanes  sacarose  \\\n",
            "18   48.69          NaN     1.0      NaN       NaN        NaN       NaN   \n",
            "19   13.08          NaN     1.0      NaN       NaN        NaN       NaN   \n",
            "20   17.65          NaN     1.0      NaN       NaN        NaN       NaN   \n",
            "21     NaN          NaN     1.0      NaN       NaN        NaN       NaN   \n",
            "22   27.73          NaN     1.0      NaN       NaN        NaN       NaN   \n",
            "23     NaN          NaN     1.0      NaN       NaN        NaN       NaN   \n",
            "24     NaN          NaN     1.0      NaN       NaN        NaN       NaN   \n",
            "35   44.20          NaN     1.0      NaN       NaN        NaN       NaN   \n",
            "39     NaN          NaN     1.0      NaN       NaN        NaN       NaN   \n",
            "41   19.56          NaN     1.0      NaN       NaN        NaN       NaN   \n",
            "46     NaN          NaN     1.0      NaN       NaN        NaN       NaN   \n",
            "54     NaN          NaN     1.0      NaN       NaN        NaN       NaN   \n",
            "60     NaN          NaN     1.0      NaN       NaN        NaN       NaN   \n",
            "\n",
            "    animal  carbohydrates region  \n",
            "18     NaN            NaN    All  \n",
            "19     NaN            NaN    All  \n",
            "20     NaN            NaN    All  \n",
            "21     NaN            NaN    All  \n",
            "22     NaN            NaN    All  \n",
            "23     NaN            NaN    All  \n",
            "24     NaN            NaN    All  \n",
            "35     NaN            NaN    All  \n",
            "39     NaN            NaN    All  \n",
            "41     NaN            NaN    All  \n",
            "46     NaN            NaN    All  \n",
            "54     NaN            NaN    All  \n",
            "60     NaN            NaN    All  \n"
          ]
        }
      ]
    },
    {
      "cell_type": "code",
      "source": [
        "# Lista de valores de _id que quieres modificar\n",
        "ids_to_update = [238, 239, 253, 262, 263, 264, 266, 267, 268, 369, 374, 375, 376]\n",
        "\n",
        "# Asignar el valor 1 en la columna \"lactose\" para las filas que tienen el _id en la lista\n",
        "df.loc[df['_id'].isin(ids_to_update), 'lactose'] = 1\n",
        "\n",
        "# Mostrar las filas actualizadas para verificar el cambio\n",
        "print(df[df['_id'].isin(ids_to_update)])\n",
        "\n"
      ],
      "metadata": {
        "colab": {
          "base_uri": "https://localhost:8080/"
        },
        "id": "mYB0zUQvEKC8",
        "outputId": "4f01f09f-acee-4d3f-cdf8-48eb251fcfd4"
      },
      "execution_count": null,
      "outputs": [
        {
          "output_type": "stream",
          "name": "stdout",
          "text": [
            "     _id  Food Group  Subgroup  Type Food name in English     FoodEx2 CODE  \\\n",
            "237  238         7.0       2.0   9.0           Mortadella  Z0007.0002.0007   \n",
            "238  239         7.0       2.0   9.0         Pork sausage  Z0007.0002.0002   \n",
            "252  253         8.0       1.0   1.0      Camembert (cow)  Z0009.0001.0003   \n",
            "261  262         9.0       1.0   1.0    European Sea Bass  Z0012.0001.0010   \n",
            "262  263         9.0       1.0   1.0              Haddock  Z0012.0001.0002   \n",
            "263  264         9.0       1.0   1.0              Halibut  Z0012.0001.0004   \n",
            "265  266         9.0       1.0   1.0                 Sole  Z0012.0001.0003   \n",
            "266  267         9.0       1.0   1.0               Turbot  Z0012.0001.0006   \n",
            "267  268         9.0       2.0   1.0              Anchovy  Z0012.0002.0006   \n",
            "368  369         7.0       1.0   7.0               Yogurt              NaN   \n",
            "373  374         NaN       NaN   NaN            Roquefort              NaN   \n",
            "374  375         NaN       NaN   NaN           Mascarpone              NaN   \n",
            "375  376         NaN       NaN   NaN             Emmental              NaN   \n",
            "\n",
            "     derivates  WATER(g)  FE(mg) ZN(mg)  CA(mg)  Kcal (100g)  gluten  lactose  \\\n",
            "237        NaN      50.0     1.3    2.0     7.0          NaN     NaN      1.0   \n",
            "238        NaN      63.0     1.0    2.2    14.0          NaN     NaN      1.0   \n",
            "252        NaN      51.0     0.3    2.4   350.0          NaN     NaN      1.0   \n",
            "261       99.0      77.5     1.0    0.9    12.0          NaN     NaN      1.0   \n",
            "262        NaN      81.0     0.3    0.5    20.0          NaN     NaN      1.0   \n",
            "263        NaN      77.5     0.4    0.7    23.0          NaN     NaN      1.0   \n",
            "265        NaN      79.5     0.5    0.6    25.0          NaN     NaN      1.0   \n",
            "266        NaN      78.0     0.4    0.8    30.0          NaN     NaN      1.0   \n",
            "267        NaN      74.0     3.0    1.4   130.0          NaN     NaN      1.0   \n",
            "368        NaN       NaN     NaN    NaN     NaN          NaN     NaN      1.0   \n",
            "373        NaN       NaN     NaN    NaN     NaN          NaN     NaN      1.0   \n",
            "374        NaN       NaN     NaN    NaN     NaN          NaN     NaN      1.0   \n",
            "375        NaN       NaN     NaN    NaN     NaN          NaN     NaN      1.0   \n",
            "\n",
            "     fructose  fructanes  sacarose  animal  carbohydrates region  \n",
            "237       NaN        NaN       NaN     NaN            NaN    All  \n",
            "238       NaN        NaN       NaN     NaN            NaN    All  \n",
            "252       NaN        NaN       NaN     NaN            NaN    All  \n",
            "261       NaN        NaN       NaN     NaN            NaN    All  \n",
            "262       NaN        NaN       NaN     NaN            NaN    All  \n",
            "263       NaN        NaN       NaN     NaN            NaN    All  \n",
            "265       NaN        NaN       NaN     NaN            NaN    All  \n",
            "266       NaN        NaN       NaN     NaN            NaN    All  \n",
            "267       NaN        NaN       NaN     NaN            NaN    All  \n",
            "368       NaN        NaN       NaN     NaN            NaN    NaN  \n",
            "373       NaN        NaN       NaN     NaN            NaN    NaN  \n",
            "374       NaN        NaN       NaN     NaN            NaN    NaN  \n",
            "375       NaN        NaN       NaN     NaN            NaN    NaN  \n"
          ]
        }
      ]
    },
    {
      "cell_type": "code",
      "source": [
        "# Diccionario que mapea _id a los valores de fructosa\n",
        "fructose_map = {\n",
        "    1: [115, 116, 117, 118, 119, 120, 121, 122, 123, 124, 125, 126, 127, 128, 131, 141, 142, 146, 147, 148, 151, 216, 370, 371, 372, 373, 378],\n",
        "    2: [132, 133, 134, 135, 139, 149, 150, 156, 157, 167, 183, 380, 381],\n",
        "    3: [166, 171, 177, 180, 181, 182, 190, 193, 196, 204, 208, 210, 211, 213, 214],\n",
        "    4: [162, 163, 165, 169, 170, 172, 187, 188, 189, 191, 194, 195, 197, 198, 199, 201, 202, 203, 212, 215, 217]\n",
        "}\n",
        "\n",
        "# Asignar el valor de fructosa basado en el _id\n",
        "for fructose_value, ids in fructose_map.items():\n",
        "    df.loc[df['_id'].isin(ids), 'fructose'] = fructose_value\n",
        "\n",
        "# Mostrar las filas actualizadas para verificar el cambio\n",
        "print(df[df['_id'].isin([id for sublist in fructose_map.values() for id in sublist])])\n"
      ],
      "metadata": {
        "colab": {
          "base_uri": "https://localhost:8080/"
        },
        "id": "_pEsMm_t8ogk",
        "outputId": "02704ec2-cd95-47cf-af30-9247aafb8eea"
      },
      "execution_count": null,
      "outputs": [
        {
          "output_type": "stream",
          "name": "stdout",
          "text": [
            "     _id  Food Group  Subgroup  Type Food name in English     FoodEx2 CODE  \\\n",
            "114  115         4.0       1.0   1.0               Baobab  A00ZQ#F27.A0F6J   \n",
            "115  116         4.0       1.0   1.0     Brussels sprouts  A00FV#F28.A07HS   \n",
            "116  117         4.0       1.0   1.0              Cabbage  A00GA#F28.A07HS   \n",
            "117  118         4.0       1.0   1.0          Cauliflower  A00FR#F28.A07HS   \n",
            "118  119         4.0       1.0   1.0              Collard  A00GR#F28.A07HB   \n",
            "..   ...         ...       ...   ...                  ...              ...   \n",
            "371  372         NaN       NaN   NaN            Artichoke              NaN   \n",
            "372  373         NaN       NaN   NaN             Broccoli              NaN   \n",
            "377  378         NaN       NaN   NaN                Lemon              NaN   \n",
            "379  380         NaN       NaN   NaN           Clementine              NaN   \n",
            "380  381         NaN       NaN   NaN            Nectarine              NaN   \n",
            "\n",
            "     derivates  WATER(g)  FE(mg) ZN(mg)  CA(mg)  Kcal (100g)  gluten  lactose  \\\n",
            "114        NaN     76.00     NaN   1.00  319.00          NaN     NaN      NaN   \n",
            "115        NaN     84.39    1.54   0.57   53.99          NaN     NaN      NaN   \n",
            "116        NaN     91.94    0.24   0.13   48.00          NaN     NaN      NaN   \n",
            "117        NaN     90.76    0.96   0.31   25.16          NaN     NaN      NaN   \n",
            "118        NaN       NaN     NaN    NaN     NaN          NaN     NaN      NaN   \n",
            "..         ...       ...     ...    ...     ...          ...     ...      ...   \n",
            "371        NaN       NaN     NaN    NaN     NaN          NaN     NaN      NaN   \n",
            "372        NaN       NaN     NaN    NaN     NaN          NaN     NaN      NaN   \n",
            "377        NaN       NaN     NaN    NaN     NaN          NaN     NaN      NaN   \n",
            "379        NaN       NaN     NaN    NaN     NaN          NaN     NaN      NaN   \n",
            "380        NaN       NaN     NaN    NaN     NaN          NaN     NaN      NaN   \n",
            "\n",
            "     fructose  fructanes  sacarose  animal  carbohydrates region  \n",
            "114       1.0        NaN       NaN     NaN            NaN    All  \n",
            "115       1.0        NaN       NaN     NaN            NaN    All  \n",
            "116       1.0        NaN       NaN     NaN            NaN    All  \n",
            "117       1.0        NaN       NaN     NaN            NaN    All  \n",
            "118       1.0        NaN       NaN     NaN            NaN    All  \n",
            "..        ...        ...       ...     ...            ...    ...  \n",
            "371       1.0        NaN       NaN     NaN            NaN    NaN  \n",
            "372       1.0        NaN       NaN     NaN            NaN    NaN  \n",
            "377       1.0        NaN       NaN     NaN            NaN    NaN  \n",
            "379       2.0        NaN       NaN     NaN            NaN    NaN  \n",
            "380       2.0        NaN       NaN     NaN            NaN    NaN  \n",
            "\n",
            "[76 rows x 20 columns]\n"
          ]
        }
      ]
    },
    {
      "cell_type": "code",
      "source": [
        "# Lista de _id para los cuales se asignará el valor 1 en la columna \"fructanes\"\n",
        "ids_to_update = [5, 19, 36, 38, 40, 43, 65, 86, 88, 89, 90, 91, 92, 93, 99, 110, 111, 116, 118, 121, 122, 123,\n",
        "                 141, 149, 173, 174, 205, 210, 214, 217, 220, 222, 225, 226, 231, 383, 387, 397, 401,\n",
        "                 423, 431, 432, 446, 447, 449, 453, 462, 469, 482, 490, 497, 498, 499]\n",
        "\n",
        "# Asignar el valor 1 en la columna \"fructanes\" para las filas que tienen el _id en la lista\n",
        "df.loc[df['_id'].isin(ids_to_update), 'fructanes'] = 1\n",
        "\n",
        "# Mostrar las filas actualizadas para verificar el cambio\n",
        "print(df[df['_id'].isin(ids_to_update)])\n"
      ],
      "metadata": {
        "colab": {
          "base_uri": "https://localhost:8080/"
        },
        "id": "EZEmkyNsxOKl",
        "outputId": "989480d6-0cc3-430b-c462-5437268bdfa6"
      },
      "execution_count": null,
      "outputs": [
        {
          "output_type": "stream",
          "name": "stdout",
          "text": [
            "     _id  Food Group  Subgroup  Type Food name in English  \\\n",
            "4      5         1.0       1.0   3.0          Bread, rice   \n",
            "18    19         1.0       3.0   1.0                Wheat   \n",
            "35    36         1.0       6.0   1.0               Barley   \n",
            "37    38         1.0       6.0   1.0                  Oat   \n",
            "39    40         1.0       6.0   1.0                  Rye   \n",
            "42    43         1.0       6.0   2.0     Flour, buckwheat   \n",
            "64    65         1.0       6.0   7.0            Milk, Oat   \n",
            "85    86         3.0       1.0   1.0          Bean, black   \n",
            "87    88         3.0       1.0   1.0         Bean, butter   \n",
            "88    89         3.0       1.0   1.0          Bean, green   \n",
            "89    90         3.0       1.0   1.0           Bean, pink   \n",
            "90    91         3.0       1.0   1.0          Bean, pinto   \n",
            "91    92         3.0       1.0   1.0          Bean, pinto   \n",
            "92    93         3.0       1.0   1.0          Bean, White   \n",
            "98    99         3.0       1.0   1.0                  Pea   \n",
            "109  110         3.0       2.0   2.0       Flour, Soybean   \n",
            "110  111         3.0       2.0   7.0            Milk, soy   \n",
            "115  116         4.0       1.0   1.0     Brussels sprouts   \n",
            "117  118         4.0       1.0   1.0          Cauliflower   \n",
            "120  121         4.0       1.0   1.0               Fennel   \n",
            "121  122         4.0       1.0   1.0                 Kale   \n",
            "122  123         4.0       1.0   1.0                 Leek   \n",
            "140  141         4.0       3.0   1.0             Cucumber   \n",
            "148  149         4.0       3.0   1.0                Onion   \n",
            "172  173         6.0       1.0   1.0           Brazil nut   \n",
            "173  174         6.0       1.0   1.0           Cashew nut   \n",
            "204  205         5.0       2.0   1.0         Olive, black   \n",
            "209  210         5.0       2.0   1.0          Pomegranate   \n",
            "213  214         5.0       2.0   1.0           Watermelon   \n",
            "216  217         5.0       3.0   1.0                Dates   \n",
            "219  220         6.0       1.0   1.0            Pistachio   \n",
            "221  222         6.0       1.0   1.0        Sesame, black   \n",
            "224  225         6.0       1.0   9.0        Peanut butter   \n",
            "225  226         7.0       1.0   1.0              Chicken   \n",
            "230  231         7.0       2.0   9.0       Beef hamburger   \n",
            "382  383         NaN       NaN   NaN             Persimon   \n",
            "\n",
            "                            FoodEx2 CODE  derivates  WATER(g)  FE(mg) ZN(mg)  \\\n",
            "4    A04KZ#F04.A001E$F26.A07XE$F28.A0CQZ        1.0     49.77     NaN    NaN   \n",
            "18             A001M#F26.A07XE$F28.A07HS       19.0     11.96    3.89   3.81   \n",
            "35   A000P#F26.A07XE$F28.A07HS$F10.A06HR       36.0      9.80     NaN   2.62   \n",
            "37                       A000G#F28.A07HS       38.0     10.60     NaN    NaN   \n",
            "39                       A001K#F28.A07HS       40.0     11.49     NaN    NaN   \n",
            "42                                 A002G       19.0     12.60    2.49   1.64   \n",
            "64                       A0DYP#F28.A07HS       38.0      4.37    4.59   3.50   \n",
            "85                       A012E#F28.A07HS        NaN      3.00    2.63   3.23   \n",
            "87                       A013A#F28.A07HS        NaN      2.00    1.95   3.40   \n",
            "88   A013C#F10.A0F2Q$F26.A07XE$F28.A07HS        NaN     10.10     NaN    NaN   \n",
            "89             A012S#F10.A0F2P$F28.A07HS        NaN      3.00    1.99   2.95   \n",
            "90             A012T#F26.A07XE$F28.A07HS        NaN      3.00    1.91   2.55   \n",
            "91             A012T#F26.A07XE$F28.A07HS        NaN      3.00    1.91   2.55   \n",
            "92             A012S#F10.A0F2R$F28.A07HS        NaN     11.40     NaN   2.62   \n",
            "98                       A013J#F28.A07KL       99.0     11.70    4.80   3.49   \n",
            "109                      A0DCH#F28.A0C0A      108.0      8.00     NaN   4.66   \n",
            "110                      A0ETZ#F01.A05HX        NaN      8.00    6.13   3.50   \n",
            "115                      A00FV#F28.A07HS        NaN     84.39    1.54   0.57   \n",
            "117                      A00FR#F28.A07HS        NaN     90.76    0.96   0.31   \n",
            "120                                A12C3        NaN      8.00    0.70    0.2   \n",
            "121  A00GL#F04.A042Z$F26.A07XE$F28.A0BA1        NaN     83.60    6.70   0.59   \n",
            "122                                A12A2        NaN     83.00    2.10    0.2   \n",
            "140            A00JM#F28.A07HS$F10.A0F2Q        NaN     93.52    0.59   0.19   \n",
            "148                      A0DND#F28.A07HS        NaN     85.76    0.43   0.35   \n",
            "172                      A014G#F28.A07HS        NaN      3.07     NaN    NaN   \n",
            "173                      A014H#F28.A07HS        NaN      4.44    5.95   5.34   \n",
            "204                      A0DRX#F28.A07HS        NaN      5.77     NaN    NaN   \n",
            "209            A01LH#F28.A07HS$F26.A07XE        NaN     83.55    0.31   0.18   \n",
            "213            A00KJ#F10.A07XL$F28.A07HS        NaN     94.20    0.40   0.15   \n",
            "216                     A01MF#$F10.A0F5K        NaN     11.14    3.20   0.70   \n",
            "219                      A014Q#F28.A07HS        NaN      4.68    4.50   2.42   \n",
            "221  A015K#F10.A166Z$F28.A07LA$F28.A07HS        NaN      4.00    1.67   0.84   \n",
            "224                                A01BN       99.0       NaN     NaN   2.90   \n",
            "225                      Z0007.0001.0001        NaN     74.60    0.90    1.0   \n",
            "230                      Z0007.0003.0002        NaN     45.00    3.00    3.8   \n",
            "382                                  NaN        NaN       NaN     NaN    NaN   \n",
            "\n",
            "     CA(mg)  Kcal (100g)  gluten  lactose  fructose  fructanes  sacarose  \\\n",
            "4       NaN          NaN     NaN      NaN       NaN        1.0       NaN   \n",
            "18    48.69          NaN     1.0      NaN       NaN        1.0       NaN   \n",
            "35    44.20          NaN     1.0      NaN       NaN        1.0       NaN   \n",
            "37      NaN          NaN     NaN      NaN       NaN        1.0       NaN   \n",
            "39      NaN          NaN     1.0      NaN       NaN        1.0       NaN   \n",
            "42    12.95          NaN     NaN      NaN       NaN        1.0       NaN   \n",
            "64   228.00          NaN     NaN      NaN       NaN        1.0       NaN   \n",
            "85    48.69          NaN     NaN      NaN       NaN        1.0       NaN   \n",
            "87    58.90          NaN     NaN      NaN       NaN        1.0       NaN   \n",
            "88      NaN          NaN     NaN      NaN       NaN        1.0       NaN   \n",
            "89    46.56          NaN     NaN      NaN       NaN        1.0       NaN   \n",
            "90    50.05          NaN     NaN      NaN       NaN        1.0       NaN   \n",
            "91    50.05          NaN     NaN      NaN       NaN        1.0       NaN   \n",
            "92      NaN          NaN     NaN      NaN       NaN        1.0       NaN   \n",
            "98    75.00          NaN     NaN      NaN       NaN        1.0       NaN   \n",
            "109     NaN          NaN     NaN      NaN       NaN        1.0       NaN   \n",
            "110  223.09          NaN     NaN      NaN       NaN        1.0       NaN   \n",
            "115   53.99          NaN     NaN      NaN       1.0        1.0       NaN   \n",
            "117   25.16          NaN     NaN      NaN       1.0        1.0       NaN   \n",
            "120   49.00          NaN     NaN      NaN       1.0        1.0       NaN   \n",
            "121  185.70          NaN     NaN      NaN       1.0        1.0       NaN   \n",
            "122   59.00          NaN     NaN      NaN       1.0        1.0       NaN   \n",
            "140   19.25          NaN     NaN      NaN       1.0        1.0       NaN   \n",
            "148   21.03          NaN     NaN      NaN       2.0        1.0       NaN   \n",
            "172     NaN          NaN     NaN      NaN       NaN        1.0       NaN   \n",
            "173   34.00          NaN     NaN      NaN       NaN        1.0       NaN   \n",
            "204     NaN          NaN     NaN      NaN       NaN        1.0       NaN   \n",
            "209   10.65          NaN     NaN      NaN       3.0        1.0       NaN   \n",
            "213   12.00          NaN     NaN      NaN       3.0        1.0       NaN   \n",
            "216   71.20          NaN     NaN      NaN       4.0        1.0       NaN   \n",
            "219  135.00          NaN     NaN      NaN       NaN        1.0       NaN   \n",
            "221  327.74          NaN     NaN      NaN       NaN        1.0       NaN   \n",
            "224     NaN          NaN     NaN      NaN       NaN        1.0       NaN   \n",
            "225   12.00          NaN     NaN      NaN       NaN        1.0       NaN   \n",
            "230   25.00          NaN     NaN      NaN       NaN        1.0       NaN   \n",
            "382     NaN          NaN     NaN      NaN       NaN        1.0       NaN   \n",
            "\n",
            "     animal  carbohydrates region  \n",
            "4       NaN            NaN    All  \n",
            "18      NaN            NaN    All  \n",
            "35      NaN            NaN    All  \n",
            "37      NaN            NaN    All  \n",
            "39      NaN            NaN    All  \n",
            "42      NaN            NaN    All  \n",
            "64      NaN            NaN    All  \n",
            "85      NaN            NaN    All  \n",
            "87      NaN            NaN    All  \n",
            "88      NaN            NaN    All  \n",
            "89      NaN            NaN    All  \n",
            "90      NaN            NaN    All  \n",
            "91      NaN            NaN    All  \n",
            "92      NaN            NaN    All  \n",
            "98      NaN            NaN    All  \n",
            "109     NaN            NaN    All  \n",
            "110     NaN            NaN    All  \n",
            "115     NaN            NaN    All  \n",
            "117     NaN            NaN    All  \n",
            "120     NaN            NaN    All  \n",
            "121     NaN            NaN    All  \n",
            "122     NaN            NaN    All  \n",
            "140     NaN            NaN    All  \n",
            "148     NaN            NaN    All  \n",
            "172     NaN            NaN    All  \n",
            "173     NaN            NaN    All  \n",
            "204     NaN            NaN    All  \n",
            "209     NaN            NaN    All  \n",
            "213     NaN            NaN    All  \n",
            "216     NaN            NaN    All  \n",
            "219     NaN            NaN    All  \n",
            "221     NaN            NaN    All  \n",
            "224     NaN            NaN    All  \n",
            "225     NaN            NaN    All  \n",
            "230     NaN            NaN    All  \n",
            "382     NaN            NaN    NaN  \n"
          ]
        }
      ]
    },
    {
      "cell_type": "code",
      "source": [
        "# Lista de _id para los cuales se asignará el valor 1 en la columna \"carbohydrates\"\n",
        "ids_to_update = [\n",
        "    1, 2, 3, 4, 5, 6, 7, 8, 9, 10, 11, 12, 13, 14, 15, 16, 17, 18, 19, 20,\n",
        "    21, 22, 23, 24, 25, 26, 27, 28, 29, 30, 31, 32, 33, 34, 35, 36, 37,\n",
        "    38, 39, 40, 41, 42, 43, 44, 45, 46, 47, 48, 68, 69, 70, 71, 72, 73,\n",
        "    74, 75, 76, 77, 84, 91, 96, 98, 99, 100, 101, 104, 105, 162, 170, 213,\n",
        "    214, 215, 217\n",
        "]\n",
        "\n",
        "# Asignar el valor 1 en la columna \"carbohydrates\" para las filas que tienen el _id en la lista\n",
        "df.loc[df['_id'].isin(ids_to_update), 'carbohydrates'] = 1\n",
        "\n",
        "# Mostrar las filas actualizadas para verificar el cambio\n",
        "print(df[df['_id'].isin(ids_to_update)])\n"
      ],
      "metadata": {
        "colab": {
          "base_uri": "https://localhost:8080/"
        },
        "id": "7JSADPLX4Vl-",
        "outputId": "0f80ee06-080c-4bf2-e32b-e2f3040cc74d"
      },
      "execution_count": null,
      "outputs": [
        {
          "output_type": "stream",
          "name": "stdout",
          "text": [
            "     _id  Food Group  Subgroup  Type Food name in English  \\\n",
            "0      1         1.0       1.0   1.0                 Rice   \n",
            "1      2         1.0       1.0   1.0        Rice, Basmati   \n",
            "2      3         1.0       1.0   1.0          Rice, brown   \n",
            "3      4         1.0       1.0   2.0          Flour, Rice   \n",
            "4      5         1.0       1.0   3.0          Bread, rice   \n",
            "..   ...         ...       ...   ...                  ...   \n",
            "169  170         5.0       3.0   1.0             Plantain   \n",
            "212  213         5.0       2.0   1.0           Strawberry   \n",
            "213  214         5.0       2.0   1.0           Watermelon   \n",
            "214  215         5.0       3.0   1.0              Apricot   \n",
            "216  217         5.0       3.0   1.0                Dates   \n",
            "\n",
            "                            FoodEx2 CODE  derivates  WATER(g)  FE(mg) ZN(mg)  \\\n",
            "0                        A001D#F28.A07HS        1.0     10.70    0.36   1.52   \n",
            "1              A001F#F26.A07XE$F28.A07LK        1.0     10.00    0.23   1.03   \n",
            "2                        A001E#F28.A07HS        1.0     11.50    3.72   2.30   \n",
            "3                                  A003F        1.0     12.80    0.52   1.55   \n",
            "4    A04KZ#F04.A001E$F26.A07XE$F28.A0CQZ        1.0     49.77     NaN    NaN   \n",
            "..                                   ...        ...       ...     ...    ...   \n",
            "169                      A00RR#F28.A07HS        NaN     87.53    0.26   0.14   \n",
            "212                      A01EA#F28.A07HS        NaN     92.03    0.36   0.14   \n",
            "213            A00KJ#F10.A07XL$F28.A07HS        NaN     94.20    0.40   0.15   \n",
            "214                                A01MD        NaN     16.68    2.50   0.41   \n",
            "216                     A01MF#$F10.A0F5K        NaN     11.14    3.20   0.70   \n",
            "\n",
            "     CA(mg)  Kcal (100g)  gluten  lactose  fructose  fructanes  sacarose  \\\n",
            "0      4.55          NaN     NaN      NaN       NaN        NaN       NaN   \n",
            "1       NaN          NaN     NaN      NaN       NaN        NaN       NaN   \n",
            "2     25.31          NaN     NaN      NaN       NaN        NaN       NaN   \n",
            "3      4.42          NaN     NaN      NaN       NaN        NaN       NaN   \n",
            "4       NaN          NaN     NaN      NaN       NaN        1.0       NaN   \n",
            "..      ...          ...     ...      ...       ...        ...       ...   \n",
            "169   11.24          NaN     NaN      NaN       4.0        NaN       NaN   \n",
            "212   15.28          NaN     NaN      NaN       3.0        NaN       NaN   \n",
            "213   12.00          NaN     NaN      NaN       3.0        1.0       NaN   \n",
            "214   28.57          NaN     NaN      NaN       4.0        NaN       NaN   \n",
            "216   71.20          NaN     NaN      NaN       4.0        1.0       NaN   \n",
            "\n",
            "     animal  carbohydrates region  \n",
            "0       NaN            1.0    All  \n",
            "1       NaN            1.0    All  \n",
            "2       NaN            1.0    All  \n",
            "3       NaN            1.0    All  \n",
            "4       NaN            1.0    All  \n",
            "..      ...            ...    ...  \n",
            "169     NaN            1.0    All  \n",
            "212     NaN            1.0    All  \n",
            "213     NaN            1.0    All  \n",
            "214     NaN            1.0    All  \n",
            "216     NaN            1.0    All  \n",
            "\n",
            "[73 rows x 20 columns]\n"
          ]
        }
      ]
    },
    {
      "cell_type": "code",
      "source": [
        "# Guardar el DataFrame actualizado como un archivo CSV\n",
        "output_file = '/content/drive/My Drive/TFM/Databases/DB_food_updated.csv'\n",
        "df.to_csv(output_file, index=False)\n",
        "\n",
        "# Comando para descargar el archivo\n",
        "from google.colab import files\n",
        "files.download(output_file)\n"
      ],
      "metadata": {
        "colab": {
          "base_uri": "https://localhost:8080/",
          "height": 17
        },
        "id": "Iup4PEcB5yDG",
        "outputId": "9465a846-4f29-46cb-9146-e1fa1f30515f"
      },
      "execution_count": null,
      "outputs": [
        {
          "output_type": "display_data",
          "data": {
            "text/plain": [
              "<IPython.core.display.Javascript object>"
            ],
            "application/javascript": [
              "\n",
              "    async function download(id, filename, size) {\n",
              "      if (!google.colab.kernel.accessAllowed) {\n",
              "        return;\n",
              "      }\n",
              "      const div = document.createElement('div');\n",
              "      const label = document.createElement('label');\n",
              "      label.textContent = `Downloading \"${filename}\": `;\n",
              "      div.appendChild(label);\n",
              "      const progress = document.createElement('progress');\n",
              "      progress.max = size;\n",
              "      div.appendChild(progress);\n",
              "      document.body.appendChild(div);\n",
              "\n",
              "      const buffers = [];\n",
              "      let downloaded = 0;\n",
              "\n",
              "      const channel = await google.colab.kernel.comms.open(id);\n",
              "      // Send a message to notify the kernel that we're ready.\n",
              "      channel.send({})\n",
              "\n",
              "      for await (const message of channel.messages) {\n",
              "        // Send a message to notify the kernel that we're ready.\n",
              "        channel.send({})\n",
              "        if (message.buffers) {\n",
              "          for (const buffer of message.buffers) {\n",
              "            buffers.push(buffer);\n",
              "            downloaded += buffer.byteLength;\n",
              "            progress.value = downloaded;\n",
              "          }\n",
              "        }\n",
              "      }\n",
              "      const blob = new Blob(buffers, {type: 'application/binary'});\n",
              "      const a = document.createElement('a');\n",
              "      a.href = window.URL.createObjectURL(blob);\n",
              "      a.download = filename;\n",
              "      div.appendChild(a);\n",
              "      a.click();\n",
              "      div.remove();\n",
              "    }\n",
              "  "
            ]
          },
          "metadata": {}
        },
        {
          "output_type": "display_data",
          "data": {
            "text/plain": [
              "<IPython.core.display.Javascript object>"
            ],
            "application/javascript": [
              "download(\"download_cee0a88c-958c-455c-bc09-8471c5021007\", \"DB_food_updated.csv\", 29476)"
            ]
          },
          "metadata": {}
        }
      ]
    },
    {
      "cell_type": "code",
      "source": [
        "from google.colab import auth\n",
        "auth.authenticate_user()\n"
      ],
      "metadata": {
        "id": "pLI_wW-R_ZI5"
      },
      "execution_count": null,
      "outputs": []
    },
    {
      "cell_type": "markdown",
      "source": [],
      "metadata": {
        "id": "-auHY453ULU1"
      }
    },
    {
      "cell_type": "code",
      "source": [
        "import gspread\n",
        "from gspread_dataframe import set_with_dataframe\n"
      ],
      "metadata": {
        "id": "Acrix1WJ_fw8"
      },
      "execution_count": null,
      "outputs": []
    }
  ]
}